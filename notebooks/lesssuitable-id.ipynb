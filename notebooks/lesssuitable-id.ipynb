{
 "cells": [
  {
   "cell_type": "markdown",
   "metadata": {},
   "source": [
    "First we must find all the products in the BNF that are denoted as \"less suitable for prescribing\". We will use the NICE commissioned BNF found at https://bnf.nice.org.uk/ This is available to anyone working in the NHS \n",
    "\n",
    "We could manually search but that would take awhile as _less suitable for prescribing_ returns 82 results. First let us download relevant results for _\"less suitable for prescribing drug\"_ to isolate specific drugs as opposed to general information"
   ]
  },
  {
   "cell_type": "code",
   "execution_count": 1,
   "metadata": {},
   "outputs": [
    {
     "name": "stdout",
     "output_type": "stream",
     "text": [
      "{'document': {'link': 'http://bnf.nice.org.uk/drug/amitriptyline-hydrochloride.html#lessSuitableForPrescribings', 'title': 'AMITRIPTYLINE HYDROCHLORIDE | Less suitable for prescribing | Drug'}}\n",
      "{'document': {'link': 'http://bnf.nice.org.uk/drug/atropine-sulfate.html#lessSuitableForPrescribings', 'title': 'ATROPINE SULFATE | Less suitable for prescribing | Drug'}}\n",
      "{'document': {'link': 'http://bnf.nice.org.uk/drug/benzyl-benzoate.html#lessSuitableForPrescribings', 'title': 'BENZYL BENZOATE | Less suitable for prescribing | Drug'}}\n",
      "{'document': {'link': 'http://bnf.nice.org.uk/drug/bethanechol-chloride.html#lessSuitableForPrescribings', 'title': 'BETHANECHOL CHLORIDE | Less suitable for prescribing | Drug'}}\n",
      "{'document': {'link': 'http://bnf.nice.org.uk/drug/chloral-hydrate.html#lessSuitableForPrescribings', 'title': 'CHLORAL HYDRATE | Less suitable for prescribing | Drug'}}\n",
      "{'document': {'link': 'http://bnf.nice.org.uk/drug/chloramphenicol.html#lessSuitableForPrescribings', 'title': 'CHLORAMPHENICOL | Less suitable for prescribing | Drug'}}\n",
      "{'document': {'link': 'http://bnf.nice.org.uk/drug/clonidine-hydrochloride.html#lessSuitableForPrescribings', 'title': 'CLONIDINE HYDROCHLORIDE | Less suitable for prescribing | Drug'}}\n",
      "{'document': {'link': 'http://bnf.nice.org.uk/drug/co-codamol.html#lessSuitableForPrescribings', 'title': 'CO-CODAMOL | Less suitable for prescribing | Drug'}}\n",
      "{'document': {'link': 'http://bnf.nice.org.uk/drug/co-flumactone.html#lessSuitableForPrescribings', 'title': 'CO-FLUMACTONE | Less suitable for prescribing | Drug'}}\n",
      "{'document': {'link': 'http://bnf.nice.org.uk/drug/cyanocobalamin.html#lessSuitableForPrescribings', 'title': 'CYANOCOBALAMIN | Less suitable for prescribing | Drug'}}\n",
      "{'document': {'link': 'http://bnf.nice.org.uk/drug/tranylcypromine.html#lessSuitableForPrescribings', 'title': 'TRANYLCYPROMINE | Less suitable for prescribing | Drug'}}\n",
      "{'document': {'link': 'http://bnf.nice.org.uk/drug/pentazocine.html#lessSuitableForPrescribings', 'title': 'PENTAZOCINE | Less suitable for prescribing | Drug'}}\n",
      "{'document': {'link': 'http://bnf.nice.org.uk/drug/pentoxifylline.html#lessSuitableForPrescribings', 'title': 'PENTOXIFYLLINE | Less suitable for prescribing | Drug'}}\n",
      "{'document': {'link': 'http://bnf.nice.org.uk/drug/permethrin.html#lessSuitableForPrescribings', 'title': 'PERMETHRIN | Less suitable for prescribing | Drug'}}\n",
      "{'document': {'link': 'http://bnf.nice.org.uk/drug/phenelzine.html#lessSuitableForPrescribings', 'title': 'PHENELZINE | Less suitable for prescribing | Drug'}}\n",
      "{'document': {'link': 'http://bnf.nice.org.uk/drug/piroxicam.html#lessSuitableForPrescribings', 'title': 'PIROXICAM | Less suitable for prescribing | Drug'}}\n",
      "{'document': {'link': 'http://bnf.nice.org.uk/drug/potassium-chloride.html#lessSuitableForPrescribings', 'title': 'POTASSIUM CHLORIDE | Less suitable for prescribing | Drug'}}\n",
      "{'document': {'link': 'http://bnf.nice.org.uk/drug/progesterone.html#lessSuitableForPrescribings', 'title': 'PROGESTERONE | Less suitable for prescribing | Drug'}}\n",
      "{'document': {'link': 'http://bnf.nice.org.uk/drug/promazine-hydrochloride.html#lessSuitableForPrescribings', 'title': 'PROMAZINE HYDROCHLORIDE | Less suitable for prescribing | Drug'}}\n",
      "{'document': {'link': 'http://bnf.nice.org.uk/drug/promethazine-hydrochloride.html#lessSuitableForPrescribings', 'title': 'PROMETHAZINE HYDROCHLORIDE | Less suitable for prescribing | Drug'}}\n",
      "{'document': {'link': 'http://bnf.nice.org.uk/drug/pseudoephedrine-hydrochloride.html#lessSuitableForPrescribings', 'title': 'PSEUDOEPHEDRINE HYDROCHLORIDE | Less suitable for prescribing | Drug'}}\n",
      "{'document': {'link': 'http://bnf.nice.org.uk/drug/ribavirin.html#lessSuitableForPrescribings', 'title': 'RIBAVIRIN | Less suitable for prescribing | Drug'}}\n",
      "{'document': {'link': 'http://bnf.nice.org.uk/drug/simeticone.html#lessSuitableForPrescribings', 'title': 'SIMETICONE | Less suitable for prescribing | Drug'}}\n",
      "{'document': {'link': 'http://bnf.nice.org.uk/drug/stavudine.html#lessSuitableForPrescribings', 'title': 'STAVUDINE | Less suitable for prescribing | Drug'}}\n",
      "{'document': {'link': 'http://bnf.nice.org.uk/drug/glucosamine.html#lessSuitableForPrescribings', 'title': 'GLUCOSAMINE | Less suitable for prescribing | Drug'}}\n",
      "{'document': {'link': 'http://bnf.nice.org.uk/drug/guanethidine-monosulfate.html#lessSuitableForPrescribings', 'title': 'GUANETHIDINE MONOSULFATE | Less suitable for prescribing | Drug'}}\n",
      "{'document': {'link': 'http://bnf.nice.org.uk/drug/heparinoid.html#lessSuitableForPrescribings', 'title': 'HEPARINOID | Less suitable for prescribing | Drug'}}\n",
      "{'document': {'link': 'http://bnf.nice.org.uk/drug/hydrocortisone.html#lessSuitableForPrescribings', 'title': 'HYDROCORTISONE | Less suitable for prescribing | Drug'}}\n",
      "{'document': {'link': 'http://bnf.nice.org.uk/drug/inosine-pranobex.html#lessSuitableForPrescribings', 'title': 'INOSINE PRANOBEX | Less suitable for prescribing | Drug'}}\n",
      "{'document': {'link': 'http://bnf.nice.org.uk/drug/inositol-nicotinate.html#lessSuitableForPrescribings', 'title': 'INOSITOL NICOTINATE | Less suitable for prescribing | Drug'}}\n",
      "{'document': {'link': 'http://bnf.nice.org.uk/drug/isocarboxazid.html#lessSuitableForPrescribings', 'title': 'ISOCARBOXAZID | Less suitable for prescribing | Drug'}}\n",
      "{'document': {'link': 'http://bnf.nice.org.uk/drug/meprobamate.html#lessSuitableForPrescribings', 'title': 'MEPROBAMATE | Less suitable for prescribing | Drug'}}\n",
      "{'document': {'link': 'http://bnf.nice.org.uk/drug/methadone-hydrochloride.html#lessSuitableForPrescribings', 'title': 'METHADONE HYDROCHLORIDE | Less suitable for prescribing | Drug'}}\n",
      "{'document': {'link': 'http://bnf.nice.org.uk/drug/methenamine-hippurate.html#lessSuitableForPrescribings', 'title': 'METHENAMINE HIPPURATE | Less suitable for prescribing | Drug'}}\n",
      "{'document': {'link': 'http://bnf.nice.org.uk/drug/methocarbamol.html#lessSuitableForPrescribings', 'title': 'METHOCARBAMOL | Less suitable for prescribing | Drug'}}\n",
      "{'document': {'link': 'http://bnf.nice.org.uk/drug/minocycline.html#lessSuitableForPrescribings', 'title': 'MINOCYCLINE | Less suitable for prescribing | Drug'}}\n",
      "{'document': {'link': 'http://bnf.nice.org.uk/drug/moxisylyte.html#lessSuitableForPrescribings', 'title': 'MOXISYLYTE | Less suitable for prescribing | Drug'}}\n",
      "{'document': {'link': 'http://bnf.nice.org.uk/drug/nandrolone.html#lessSuitableForPrescribings', 'title': 'NANDROLONE | Less suitable for prescribing | Drug'}}\n",
      "{'document': {'link': 'http://bnf.nice.org.uk/drug/neomycin-sulfate.html#lessSuitableForPrescribings', 'title': 'NEOMYCIN SULFATE | Less suitable for prescribing | Drug'}}\n",
      "{'document': {'link': 'http://bnf.nice.org.uk/drug/oxerutins.html#lessSuitableForPrescribings', 'title': 'OXERUTINS | Less suitable for prescribing | Drug'}}\n",
      "{'document': {'link': 'http://bnf.nice.org.uk/drug/dinoprostone.html#lessSuitableForPrescribings', 'title': 'DINOPROSTONE | Less suitable for prescribing | Drug'}}\n",
      "{'document': {'link': 'http://bnf.nice.org.uk/drug/docusate-sodium.html#lessSuitableForPrescribings', 'title': 'DOCUSATE SODIUM | Less suitable for prescribing | Drug'}}\n",
      "{'document': {'link': 'http://bnf.nice.org.uk/drug/dosulepin-hydrochloride.html#lessSuitableForPrescribings', 'title': 'DOSULEPIN HYDROCHLORIDE | Less suitable for prescribing | Drug'}}\n",
      "{'document': {'link': 'http://bnf.nice.org.uk/drug/ephedrine-hydrochloride.html#lessSuitableForPrescribings', 'title': 'EPHEDRINE HYDROCHLORIDE | Less suitable for prescribing | Drug'}}\n",
      "{'document': {'link': 'http://bnf.nice.org.uk/drug/ergotamine-tartrate.html#lessSuitableForPrescribings', 'title': 'ERGOTAMINE TARTRATE | Less suitable for prescribing | Drug'}}\n",
      "{'document': {'link': 'http://bnf.nice.org.uk/drug/ferrous-sulfate.html#lessSuitableForPrescribings', 'title': 'FERROUS SULFATE | Less suitable for prescribing | Drug'}}\n",
      "{'document': {'link': 'http://bnf.nice.org.uk/drug/aspirin-with-codeine.html#lessSuitableForPrescribings', 'title': 'ASPIRIN WITH CODEINE | Less suitable for prescribing | Drug'}}\n",
      "{'document': {'link': 'http://bnf.nice.org.uk/drug/betamethasone-with-neomycin.html#lessSuitableForPrescribings', 'title': 'BETAMETHASONE WITH NEOMYCIN | Less suitable for prescribing | Drug'}}\n",
      "{'document': {'link': 'http://bnf.nice.org.uk/drug/calamine-with-zinc-oxide.html#lessSuitableForPrescribings', 'title': 'CALAMINE WITH ZINC OXIDE | Less suitable for prescribing | Drug'}}\n",
      "{'document': {'link': 'http://bnf.nice.org.uk/drug/dexamethasone-with-tobramycin.html#lessSuitableForPrescribings', 'title': 'DEXAMETHASONE WITH TOBRAMYCIN | Less suitable for prescribing | Drug'}}\n",
      "{'document': {'link': 'http://bnf.nice.org.uk/drug/urea-hydrogen-peroxide.html#lessSuitableForPrescribings', 'title': 'UREA HYDROGEN PEROXIDE | Less suitable for prescribing | Drug'}}\n",
      "{'document': {'link': 'http://bnf.nice.org.uk/drug/vitamin-b-complex.html#lessSuitableForPrescribings', 'title': 'VITAMIN B COMPLEX | Less suitable for prescribing | Drug'}}\n",
      "{'document': {'link': 'http://bnf.nice.org.uk/drug/kaolin-with-morphine.html#lessSuitableForPrescribings', 'title': 'KAOLIN WITH MORPHINE | Less suitable for prescribing | Drug'}}\n",
      "{'document': {'link': 'http://bnf.nice.org.uk/drug/paracetamol-with-isometheptene.html#lessSuitableForPrescribings', 'title': 'PARACETAMOL WITH ISOMETHEPTENE | Less suitable for prescribing | Drug'}}\n",
      "{'document': {'link': 'http://bnf.nice.org.uk/drug/dihydrocodeine-with-paracetamol.html#lessSuitableForPrescribings', 'title': 'DIHYDROCODEINE WITH PARACETAMOL | Less suitable for prescribing | Drug'}}\n",
      "{'document': {'link': 'http://bnf.nice.org.uk/drug/ferrous-sulfate-with-ascorbic-acid.html#lessSuitableForPrescribings', 'title': 'FERROUS SULFATE WITH ASCORBIC ACID | Less suitable for prescribing | Drug'}}\n",
      "{'document': {'link': 'http://bnf.nice.org.uk/drug/ferrous-sulfate-with-folic-acid.html#lessSuitableForPrescribings', 'title': 'FERROUS SULFATE WITH FOLIC ACID | Less suitable for prescribing | Drug'}}\n",
      "{'document': {'link': 'http://bnf.nice.org.uk/drug/anethol-with-borneol-camphene-cineole-fenchone-and-pinene.html#lessSuitableForPrescribings', 'title': 'ANETHOL WITH BORNEOL, CAMPHENE, CINEOLE, FENCHONE AND PINENE | Less suitable for prescribing | Drug'}}\n",
      "{'document': {'link': 'http://bnf.nice.org.uk/drug/borneol-with-camphene-cineole-menthol-menthone-and-pinene.html#lessSuitableForPrescribings', 'title': 'BORNEOL WITH CAMPHENE, CINEOLE, MENTHOL, MENTHONE AND PINENE | Less suitable for prescribing | Drug'}}\n",
      "{'document': {'link': 'http://bnf.nice.org.uk/drug/dexamethasone-with-framycetin-sulfate-and-gramicidin.html#lessSuitableForPrescribings', 'title': 'DEXAMETHASONE WITH FRAMYCETIN SULFATE AND GRAMICIDIN | Less suitable for prescribing | Drug'}}\n",
      "{'document': {'link': 'http://bnf.nice.org.uk/drug/dexamethasone-with-hypromellose-neomycin-and-polymyxin-b-sulfate.html#lessSuitableForPrescribings', 'title': 'DEXAMETHASONE WITH HYPROMELLOSE, NEOMYCIN AND POLYMYXIN B SULFATE | Less suitable for prescribing | Drug'}}\n",
      "{'document': {'link': 'http://bnf.nice.org.uk/drug/paracetamol-with-buclizine-hydrochloride-and-codeine-phosphate.html#lessSuitableForPrescribings', 'title': 'PARACETAMOL WITH BUCLIZINE HYDROCHLORIDE AND CODEINE PHOSPHATE | Less suitable for prescribing | Drug'}}\n",
      "{'document': {'link': 'http://bnf.nice.org.uk/drug/ergotamine-tartrate-with-caffeine-hydrate-and-cyclizine-hydrochloride.html#lessSuitableForPrescribings', 'title': 'ERGOTAMINE TARTRATE WITH CAFFEINE HYDRATE AND CYCLIZINE HYDROCHLORIDE | Less suitable for prescribing | Drug'}}\n"
     ]
    }
   ],
   "source": [
    "from itertools import count\n",
    "import requests\n",
    "for page in count(1):\n",
    "    url = \"https://bnf.nice.org.uk/search?q=%22less%20suitable%20for%20prescribing%20drug%22&page=\" + str(page)\n",
    "    rsp = requests.get(url)\n",
    "    results = rsp.json()\n",
    "    hits = results[\"hits\"][\"hits\"]\n",
    "    for hit in hits:\n",
    "        print(hit[\"_source\"])\n",
    "    if not hits:\n",
    "        break"
   ]
  },
  {
   "cell_type": "code",
   "execution_count": 2,
   "metadata": {},
   "outputs": [
    {
     "data": {
      "text/html": [
       "<div>\n",
       "<style scoped>\n",
       "    .dataframe tbody tr th:only-of-type {\n",
       "        vertical-align: middle;\n",
       "    }\n",
       "\n",
       "    .dataframe tbody tr th {\n",
       "        vertical-align: top;\n",
       "    }\n",
       "\n",
       "    .dataframe thead th {\n",
       "        text-align: right;\n",
       "    }\n",
       "</style>\n",
       "<table border=\"1\" class=\"dataframe\">\n",
       "  <thead>\n",
       "    <tr style=\"text-align: right;\">\n",
       "      <th></th>\n",
       "      <th>_index</th>\n",
       "      <th>_type</th>\n",
       "      <th>_id</th>\n",
       "      <th>_score</th>\n",
       "      <th>_source.document.link</th>\n",
       "      <th>_source.document.title</th>\n",
       "    </tr>\n",
       "  </thead>\n",
       "  <tbody>\n",
       "    <tr>\n",
       "      <th>0</th>\n",
       "      <td>topic</td>\n",
       "      <td>topic</td>\n",
       "      <td>drug-sections-ergotamine-tartrate-with-caffein...</td>\n",
       "      <td>1.049002</td>\n",
       "      <td>http://bnf.nice.org.uk/drug/ergotamine-tartrat...</td>\n",
       "      <td>ERGOTAMINE TARTRATE WITH CAFFEINE HYDRATE AND ...</td>\n",
       "    </tr>\n",
       "  </tbody>\n",
       "</table>\n",
       "</div>"
      ],
      "text/plain": [
       "  _index  _type                                                _id    _score  \\\n",
       "0  topic  topic  drug-sections-ergotamine-tartrate-with-caffein...  1.049002   \n",
       "\n",
       "                               _source.document.link  \\\n",
       "0  http://bnf.nice.org.uk/drug/ergotamine-tartrat...   \n",
       "\n",
       "                              _source.document.title  \n",
       "0  ERGOTAMINE TARTRATE WITH CAFFEINE HYDRATE AND ...  "
      ]
     },
     "execution_count": 2,
     "metadata": {},
     "output_type": "execute_result"
    }
   ],
   "source": [
    "import pandas as pd\n",
    "import json\n",
    "pd.json_normalize(hit)"
   ]
  },
  {
   "cell_type": "code",
   "execution_count": 3,
   "metadata": {},
   "outputs": [
    {
     "data": {
      "text/html": [
       "<div>\n",
       "<style scoped>\n",
       "    .dataframe tbody tr th:only-of-type {\n",
       "        vertical-align: middle;\n",
       "    }\n",
       "\n",
       "    .dataframe tbody tr th {\n",
       "        vertical-align: top;\n",
       "    }\n",
       "\n",
       "    .dataframe thead th {\n",
       "        text-align: right;\n",
       "    }\n",
       "</style>\n",
       "<table border=\"1\" class=\"dataframe\">\n",
       "  <thead>\n",
       "    <tr style=\"text-align: right;\">\n",
       "      <th></th>\n",
       "      <th>_index</th>\n",
       "      <th>_type</th>\n",
       "      <th>_id</th>\n",
       "      <th>_score</th>\n",
       "      <th>_source.document.link</th>\n",
       "      <th>_source.document.title</th>\n",
       "    </tr>\n",
       "  </thead>\n",
       "  <tbody>\n",
       "    <tr>\n",
       "      <th>0</th>\n",
       "      <td>topic</td>\n",
       "      <td>topic</td>\n",
       "      <td>drug-sections-ergotamine-tartrate-with-caffein...</td>\n",
       "      <td>1.049002</td>\n",
       "      <td>http://bnf.nice.org.uk/drug/ergotamine-tartrat...</td>\n",
       "      <td>ERGOTAMINE TARTRATE WITH CAFFEINE HYDRATE AND ...</td>\n",
       "    </tr>\n",
       "  </tbody>\n",
       "</table>\n",
       "</div>"
      ],
      "text/plain": [
       "  _index  _type                                                _id    _score  \\\n",
       "0  topic  topic  drug-sections-ergotamine-tartrate-with-caffein...  1.049002   \n",
       "\n",
       "                               _source.document.link  \\\n",
       "0  http://bnf.nice.org.uk/drug/ergotamine-tartrat...   \n",
       "\n",
       "                              _source.document.title  \n",
       "0  ERGOTAMINE TARTRATE WITH CAFFEINE HYDRATE AND ...  "
      ]
     },
     "execution_count": 3,
     "metadata": {},
     "output_type": "execute_result"
    }
   ],
   "source": [
    "df= pd.json_normalize(hit)\n",
    "df"
   ]
  },
  {
   "cell_type": "code",
   "execution_count": 4,
   "metadata": {},
   "outputs": [
    {
     "data": {
      "text/html": [
       "<div>\n",
       "<style scoped>\n",
       "    .dataframe tbody tr th:only-of-type {\n",
       "        vertical-align: middle;\n",
       "    }\n",
       "\n",
       "    .dataframe tbody tr th {\n",
       "        vertical-align: top;\n",
       "    }\n",
       "\n",
       "    .dataframe thead th {\n",
       "        text-align: right;\n",
       "    }\n",
       "</style>\n",
       "<table border=\"1\" class=\"dataframe\">\n",
       "  <thead>\n",
       "    <tr style=\"text-align: right;\">\n",
       "      <th></th>\n",
       "    </tr>\n",
       "  </thead>\n",
       "  <tbody>\n",
       "  </tbody>\n",
       "</table>\n",
       "</div>"
      ],
      "text/plain": [
       "Empty DataFrame\n",
       "Columns: []\n",
       "Index: []"
      ]
     },
     "execution_count": 4,
     "metadata": {},
     "output_type": "execute_result"
    }
   ],
   "source": [
    "df2= pd.json_normalize(hits)\n",
    "df2"
   ]
  },
  {
   "cell_type": "code",
   "execution_count": 5,
   "metadata": {},
   "outputs": [
    {
     "data": {
      "text/html": [
       "<div>\n",
       "<style scoped>\n",
       "    .dataframe tbody tr th:only-of-type {\n",
       "        vertical-align: middle;\n",
       "    }\n",
       "\n",
       "    .dataframe tbody tr th {\n",
       "        vertical-align: top;\n",
       "    }\n",
       "\n",
       "    .dataframe thead th {\n",
       "        text-align: right;\n",
       "    }\n",
       "</style>\n",
       "<table border=\"1\" class=\"dataframe\">\n",
       "  <thead>\n",
       "    <tr style=\"text-align: right;\">\n",
       "      <th></th>\n",
       "      <th>document.link</th>\n",
       "      <th>document.title</th>\n",
       "    </tr>\n",
       "  </thead>\n",
       "  <tbody>\n",
       "    <tr>\n",
       "      <th>0</th>\n",
       "      <td>http://bnf.nice.org.uk/drug/ergotamine-tartrat...</td>\n",
       "      <td>ERGOTAMINE TARTRATE WITH CAFFEINE HYDRATE AND ...</td>\n",
       "    </tr>\n",
       "  </tbody>\n",
       "</table>\n",
       "</div>"
      ],
      "text/plain": [
       "                                       document.link  \\\n",
       "0  http://bnf.nice.org.uk/drug/ergotamine-tartrat...   \n",
       "\n",
       "                                      document.title  \n",
       "0  ERGOTAMINE TARTRATE WITH CAFFEINE HYDRATE AND ...  "
      ]
     },
     "execution_count": 5,
     "metadata": {},
     "output_type": "execute_result"
    }
   ],
   "source": [
    "df3 = pd.json_normalize(hit[\"_source\"])\n",
    "df3"
   ]
  },
  {
   "cell_type": "code",
   "execution_count": null,
   "metadata": {},
   "outputs": [],
   "source": []
  }
 ],
 "metadata": {
  "jupytext": {
   "cell_metadata_filter": "all",
   "notebook_metadata_filter": "all,-language_info",
   "text_representation": {
    "extension": ".py",
    "format_name": "light",
    "format_version": "1.5",
    "jupytext_version": "1.3.3"
   }
  },
  "kernelspec": {
   "display_name": "Python 3",
   "language": "python",
   "name": "python3"
  },
  "language_info": {
   "codemirror_mode": {
    "name": "ipython",
    "version": 3
   },
   "file_extension": ".py",
   "mimetype": "text/x-python",
   "name": "python",
   "nbconvert_exporter": "python",
   "pygments_lexer": "ipython3",
   "version": "3.8.1"
  }
 },
 "nbformat": 4,
 "nbformat_minor": 4
}
